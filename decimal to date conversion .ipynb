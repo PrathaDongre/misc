{
 "cells": [
  {
   "cell_type": "code",
   "execution_count": 1,
   "metadata": {},
   "outputs": [
    {
     "name": "stdout",
     "output_type": "stream",
     "text": [
      "enter year in float: 2001.249406561349\n",
      "time.struct_time(tm_year=2001, tm_mon=4, tm_mday=2, tm_hour=0, tm_min=48, tm_sec=5, tm_wday=0, tm_yday=92, tm_isdst=0)\n"
     ]
    }
   ],
   "source": [
    "from datetime import datetime as d\n",
    "import time as t\n",
    "import calendar as cal\n",
    "\n",
    "def sinceEpoch(date):\n",
    "    return t.mktime(date.timetuple())\n",
    "\n",
    "\n",
    "float_year=float(input(\"enter year in float: \"))\n",
    "\n",
    "a1 = float_year-int(float_year)\n",
    "a2 = d(year=int(float_year), month=1,day=1)\n",
    "a3 = d(year=int(float_year)+1, month=1,day=1)\n",
    "\n",
    "s1 = (a1) * (sinceEpoch(a3)-sinceEpoch(a2))\n",
    "s2=t.mktime((2001,1,1,0,0,0,cal.weekday(int(float_year),1,1),1,0))\n",
    "\n",
    "S=int(s1+s2)    #seconds since epoch\n",
    "date=t.localtime(S)\n",
    "print(date)\n",
    "\n",
    "# input eg: 2001.249406561349\n"
   ]
  },
  {
   "cell_type": "code",
   "execution_count": null,
   "metadata": {},
   "outputs": [],
   "source": []
  }
 ],
 "metadata": {
  "kernelspec": {
   "display_name": "Python 3",
   "language": "python",
   "name": "python3"
  },
  "language_info": {
   "codemirror_mode": {
    "name": "ipython",
    "version": 3
   },
   "file_extension": ".py",
   "mimetype": "text/x-python",
   "name": "python",
   "nbconvert_exporter": "python",
   "pygments_lexer": "ipython3",
   "version": "3.7.4"
  }
 },
 "nbformat": 4,
 "nbformat_minor": 2
}
